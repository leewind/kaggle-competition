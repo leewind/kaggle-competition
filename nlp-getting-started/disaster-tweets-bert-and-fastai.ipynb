{
 "cells": [
  {
   "cell_type": "markdown",
   "metadata": {},
   "source": [
    "# 学习内容"
   ]
  },
  {
   "cell_type": "markdown",
   "metadata": {},
   "source": [
    "+ fastai.text.all提供了以下功能函数\n",
    "    - RandomSplitter: Split the data in a trainig and validation set\n",
    "    - DataLoader: https://docs.fast.ai/data.load.html\n",
    "    - layers: https://fastai1.fast.ai/layers.html\n",
    "+ transformers\n",
    "    - AutoTokenizer: This is a generic tokenizer class that will be instantiated as one of the tokenizer classes of the library when created with the AutoTokenizer.from_pretrained() class method.\n",
    "    - AutoModelForSequenceClassification: This is a generic model class that will be instantiated as one of the model classes of the library (with a sequence classification head) when created with the from_pretrained() class method or the from_config() class method."
   ]
  },
  {
   "cell_type": "code",
   "execution_count": null,
   "metadata": {},
   "outputs": [],
   "source": [
    "# Importing the libraries\n",
    "from transformers import AutoTokenizer, AutoModelForSequenceClassification\n",
    "from fastai.text.all import *\n",
    "import numpy as np\n",
    "import pandas as pd\n",
    "\n",
    "# Data Import\n",
    "df = pd.DataFrame([{'text': ''}])\n",
    "\n",
    "# Data Process\n",
    "class Dataset:\n",
    "    def __init__(self, tensors, target, ids):\n",
    "        self.text = tensors[ids]\n",
    "        self.targ = target[ids].reset_index(drop=True)\n",
    "    \n",
    "    def __len__(self):\n",
    "        return len(self.text)\n",
    "    \n",
    "    def __getitem__(self, idx):\n",
    "        t = self.text[idx]\n",
    "        y = self.target[idx]\n",
    "        return t, tensor(y)\n",
    "\n",
    "# tokenizer\n",
    "tokenizer = AutoTokenizer.from_pretrained(\"bert-base-cased\")\n",
    "\n",
    "# tensor\n",
    "train_tensor = tokenizer(list(train_df[\"text\"]), padding=\"max_length\", truncation=True, max_length=30, return_tensors=\"pt\")[\"input_ids\"]\n",
    "\n",
    "# Split the data in a trainig and validation set\n",
    "train_ids, valid_ids = RandomSplitter()(train_df)\n",
    "\n",
    "# Separate the y / target into a variable\n",
    "target = train_df[\"target\"]\n",
    "\n",
    "# create the input dataset based on the randomsplitter ids and utiliing the pre-processed tokens \n",
    "train_ds = Dataset(train_tensor, target, train_ids)\n",
    "valid_ds = Dataset(train_tensor, target, valid_ids)\n",
    "\n",
    "train_dl = DataLoader(train_ds, bs=64)\n",
    "valid_dl = DataLoader(valid_ds, bs=512)\n",
    "\n",
    "dls = DataLoaders(train_dl, valid_dl)\n",
    "\n",
    "\n",
    "# Model\n",
    "# Instantiate model object (Bert model with classification output)\n",
    "bert = AutoModelForSequenceClassification.from_pretrained(\"bert-base-cased\").train()\n",
    "\n",
    "classifier = nn.Sequential(\n",
    "    nn.Linear(768, 300),\n",
    "    nn.ReLU(),\n",
    "    nn.BatchNorm1d(300),\n",
    "    nn.Dropout(0.5),\n",
    "    nn.Linear(300, 2)\n",
    ")\n",
    "\n",
    "bert.classifier = classifier\n",
    "\n",
    "class BertClassifier(Module):\n",
    "    def __init__(self, bert):\n",
    "        self.bert = bert\n",
    "    def forward(self, x):\n",
    "        return self.bert(x).logits\n",
    "\n",
    "model = BertClassifier(bert)\n",
    "\n",
    "\n",
    "# Train\n",
    "# Set up the fastai learner using the model insantiated in previous step and find optimal learning rate\n",
    "learn = Learner(dls, model, loss_func=nn.CrossEntropyLoss(), metrics=[accuracy, F1Score()])\n",
    "learn.lr_find()\n",
    "\n",
    "# Fit the model\n",
    "learn.fit_one_cycle(4, lr_max=5e-5, wd=0.8)\n",
    "\n",
    "preds, targs = learn.get_preds()"
   ]
  },
  {
   "cell_type": "markdown",
   "metadata": {},
   "source": [
    "# 正文部分"
   ]
  },
  {
   "cell_type": "markdown",
   "metadata": {
    "_cell_guid": "b1076dfc-b9ad-4769-8c92-a6c4dae69d19",
    "_uuid": "8f2839f25d086af736a60e9eeb907d3b93b6e0e5",
    "execution": {
     "iopub.execute_input": "2021-06-01T18:44:39.849469Z",
     "iopub.status.busy": "2021-06-01T18:44:39.848945Z",
     "iopub.status.idle": "2021-06-01T18:44:39.861547Z",
     "shell.execute_reply": "2021-06-01T18:44:39.859577Z",
     "shell.execute_reply.started": "2021-06-01T18:44:39.849385Z"
    }
   },
   "source": [
    "This notebook is a code-along note book that follows the following notebook by Pei-Yi Hong with additional comments to clarify each step for beginner learners like me :-)\n",
    "\n",
    "https://www.kaggle.com/hongpeiyi/bert-with-pytorch-and-fastai "
   ]
  },
  {
   "cell_type": "code",
   "execution_count": 1,
   "metadata": {},
   "outputs": [],
   "source": [
    "#Importing the libraries\n",
    "import numpy as np\n",
    "import pandas as pd\n",
    "from fastai.text.all import *\n",
    "import re"
   ]
  },
  {
   "cell_type": "code",
   "execution_count": 2,
   "metadata": {},
   "outputs": [],
   "source": [
    "# Loading the training and testing data into dataframes\n",
    "dir_path = \"./\"\n",
    "train_df = pd.read_csv(dir_path + \"train.csv\")\n",
    "test_df = pd.read_csv(dir_path + \"test.csv\")"
   ]
  },
  {
   "cell_type": "code",
   "execution_count": 3,
   "metadata": {},
   "outputs": [
    {
     "data": {
      "text/html": [
       "<div>\n",
       "<style scoped>\n",
       "    .dataframe tbody tr th:only-of-type {\n",
       "        vertical-align: middle;\n",
       "    }\n",
       "\n",
       "    .dataframe tbody tr th {\n",
       "        vertical-align: top;\n",
       "    }\n",
       "\n",
       "    .dataframe thead th {\n",
       "        text-align: right;\n",
       "    }\n",
       "</style>\n",
       "<table border=\"1\" class=\"dataframe\">\n",
       "  <thead>\n",
       "    <tr style=\"text-align: right;\">\n",
       "      <th></th>\n",
       "      <th>id</th>\n",
       "      <th>keyword</th>\n",
       "      <th>location</th>\n",
       "      <th>text</th>\n",
       "      <th>target</th>\n",
       "    </tr>\n",
       "  </thead>\n",
       "  <tbody>\n",
       "    <tr>\n",
       "      <th>0</th>\n",
       "      <td>1</td>\n",
       "      <td>NaN</td>\n",
       "      <td>NaN</td>\n",
       "      <td>Our Deeds are the Reason of this #earthquake May ALLAH Forgive us all</td>\n",
       "      <td>1</td>\n",
       "    </tr>\n",
       "    <tr>\n",
       "      <th>1</th>\n",
       "      <td>4</td>\n",
       "      <td>NaN</td>\n",
       "      <td>NaN</td>\n",
       "      <td>Forest fire near La Ronge Sask. Canada</td>\n",
       "      <td>1</td>\n",
       "    </tr>\n",
       "    <tr>\n",
       "      <th>2</th>\n",
       "      <td>5</td>\n",
       "      <td>NaN</td>\n",
       "      <td>NaN</td>\n",
       "      <td>All residents asked to 'shelter in place' are being notified by officers. No other evacuation or shelter in place orders are expected</td>\n",
       "      <td>1</td>\n",
       "    </tr>\n",
       "    <tr>\n",
       "      <th>3</th>\n",
       "      <td>6</td>\n",
       "      <td>NaN</td>\n",
       "      <td>NaN</td>\n",
       "      <td>13,000 people receive #wildfires evacuation orders in California</td>\n",
       "      <td>1</td>\n",
       "    </tr>\n",
       "    <tr>\n",
       "      <th>4</th>\n",
       "      <td>7</td>\n",
       "      <td>NaN</td>\n",
       "      <td>NaN</td>\n",
       "      <td>Just got sent this photo from Ruby #Alaska as smoke from #wildfires pours into a school</td>\n",
       "      <td>1</td>\n",
       "    </tr>\n",
       "  </tbody>\n",
       "</table>\n",
       "</div>"
      ],
      "text/plain": [
       "   id keyword location  \\\n",
       "0   1     NaN      NaN   \n",
       "1   4     NaN      NaN   \n",
       "2   5     NaN      NaN   \n",
       "3   6     NaN      NaN   \n",
       "4   7     NaN      NaN   \n",
       "\n",
       "                                                                                                                                    text  \\\n",
       "0                                                                  Our Deeds are the Reason of this #earthquake May ALLAH Forgive us all   \n",
       "1                                                                                                 Forest fire near La Ronge Sask. Canada   \n",
       "2  All residents asked to 'shelter in place' are being notified by officers. No other evacuation or shelter in place orders are expected   \n",
       "3                                                                      13,000 people receive #wildfires evacuation orders in California    \n",
       "4                                               Just got sent this photo from Ruby #Alaska as smoke from #wildfires pours into a school    \n",
       "\n",
       "   target  \n",
       "0       1  \n",
       "1       1  \n",
       "2       1  \n",
       "3       1  \n",
       "4       1  "
      ]
     },
     "execution_count": 3,
     "metadata": {},
     "output_type": "execute_result"
    }
   ],
   "source": [
    "train_df.head()"
   ]
  },
  {
   "cell_type": "code",
   "execution_count": 4,
   "metadata": {},
   "outputs": [
    {
     "data": {
      "text/plain": [
       "0    4342\n",
       "1    3271\n",
       "Name: target, dtype: int64"
      ]
     },
     "execution_count": 4,
     "metadata": {},
     "output_type": "execute_result"
    }
   ],
   "source": [
    "# Keep only the text and target columnds\n",
    "traind_df = train_df.drop(columns = [\"id\", \"keyword\", \"location\"])\n",
    "traind_df[\"target\"].value_counts()"
   ]
  },
  {
   "cell_type": "code",
   "execution_count": 5,
   "metadata": {},
   "outputs": [],
   "source": [
    "# Cleaning the text data: removing URLs, html code and emoji\n",
    "def remove_URL(text):\n",
    "    url = re.compile(r'https?://\\S+|www\\.\\S+')\n",
    "    return url.sub(r'',text)\n",
    "\n",
    "def remove_html(text):\n",
    "    html = re.compile(r'<.*?>')\n",
    "    return html.sub(r'',text)\n",
    "\n",
    "def remove_emoji(text):\n",
    "    emoji_pattern = re.compile(\"[\"\n",
    "                           u\"\\U0001F600-\\U0001F64F\"  # emoticons\n",
    "                           u\"\\U0001F300-\\U0001F5FF\"  # symbols & pictographs\n",
    "                           u\"\\U0001F680-\\U0001F6FF\"  # transport & map symbols\n",
    "                           u\"\\U0001F1E0-\\U0001F1FF\"  # flags (iOS)\n",
    "                           u\"\\U00002702-\\U000027B0\"\n",
    "                           u\"\\U000024C2-\\U0001F251\"\n",
    "                           \"]+\", flags=re.UNICODE)\n",
    "    return emoji_pattern.sub(r'', text)\n",
    "\n",
    "train_df[\"text\"] = train_df[\"text\"].apply(remove_URL)\n",
    "train_df[\"text\"] = train_df[\"text\"].apply(remove_html)\n",
    "train_df[\"text\"] = train_df[\"text\"].apply(remove_emoji)\n",
    "\n",
    "test_df[\"text\"] = test_df[\"text\"].apply(remove_URL)\n",
    "test_df[\"text\"] = test_df[\"text\"].apply(remove_html)\n",
    "test_df[\"text\"] = test_df[\"text\"].apply(remove_emoji)"
   ]
  },
  {
   "cell_type": "code",
   "execution_count": 6,
   "metadata": {},
   "outputs": [
    {
     "data": {
      "text/plain": [
       "<AxesSubplot:ylabel='Frequency'>"
      ]
     },
     "execution_count": 6,
     "metadata": {},
     "output_type": "execute_result"
    },
    {
     "data": {
      "image/png": "[encoded data removed]",
      "text/plain": [
       "<Figure size 432x288 with 1 Axes>"
      ]
     },
     "metadata": {
      "needs_background": "light"
     },
     "output_type": "display_data"
    }
   ],
   "source": [
    "train_df[\"text\"].apply(lambda x:len(x.split())).plot(kind=\"hist\")"
   ]
  },
  {
   "cell_type": "code",
   "execution_count": 7,
   "metadata": {},
   "outputs": [],
   "source": [
    "from transformers import AutoTokenizer, AutoModelForSequenceClassification"
   ]
  },
  {
   "cell_type": "code",
   "execution_count": 8,
   "metadata": {},
   "outputs": [
    {
     "data": {
      "application/vnd.jupyter.widget-view+json": {
       "model_id": "971225bc67ec4e5fa1ab72706fd4b78f",
       "version_major": 2,
       "version_minor": 0
      },
      "text/plain": [
       "Downloading:   0%|          | 0.00/570 [00:00<?, ?B/s]"
      ]
     },
     "metadata": {},
     "output_type": "display_data"
    },
    {
     "data": {
      "application/vnd.jupyter.widget-view+json": {
       "model_id": "2798547c3c904c0a81b0fe81a332c28d",
       "version_major": 2,
       "version_minor": 0
      },
      "text/plain": [
       "Downloading:   0%|          | 0.00/213k [00:00<?, ?B/s]"
      ]
     },
     "metadata": {},
     "output_type": "display_data"
    },
    {
     "data": {
      "application/vnd.jupyter.widget-view+json": {
       "model_id": "e181ffdcc8b24060b8cf881d4d932489",
       "version_major": 2,
       "version_minor": 0
      },
      "text/plain": [
       "Downloading:   0%|          | 0.00/436k [00:00<?, ?B/s]"
      ]
     },
     "metadata": {},
     "output_type": "display_data"
    },
    {
     "data": {
      "application/vnd.jupyter.widget-view+json": {
       "model_id": "2df5752291604286bef26caa870b4cb1",
       "version_major": 2,
       "version_minor": 0
      },
      "text/plain": [
       "Downloading:   0%|          | 0.00/29.0 [00:00<?, ?B/s]"
      ]
     },
     "metadata": {},
     "output_type": "display_data"
    }
   ],
   "source": [
    "# Instantiate a tokenizer based on the Bert case sensitive model \n",
    "tokenizer = AutoTokenizer.from_pretrained(\"bert-base-cased\")"
   ]
  },
  {
   "cell_type": "code",
   "execution_count": 9,
   "metadata": {},
   "outputs": [],
   "source": [
    "# Convert text sequences to numerical tokens (vector of numbers which can be fed into the model)\n",
    "\n",
    "train_tensor = tokenizer(list(train_df[\"text\"]), padding=\"max_length\", \n",
    "                         truncation=True, max_length=30, \n",
    "                         return_tensors=\"pt\")[\"input_ids\"]"
   ]
  },
  {
   "cell_type": "code",
   "execution_count": 11,
   "metadata": {},
   "outputs": [],
   "source": [
    "# Create a custom class to prepare the training data to be \n",
    "# in model input form (tuple of tokenized text sequence and tensor of target)\n",
    "\n",
    "class TweetDataset:\n",
    "    def __init__(self, tensors, targ, ids):\n",
    "        self.text = tensors[ids]\n",
    "        self.targ = targ[ids].reset_index(drop=True)\n",
    "    \n",
    "    def __len__(self):\n",
    "        return len(self.text)\n",
    "    \n",
    "    def __getitem__(self, idx):\n",
    "        t = self.text[idx]\n",
    "        y = self.targ[idx]\n",
    "        return t, tensor(y)"
   ]
  },
  {
   "cell_type": "code",
   "execution_count": 18,
   "metadata": {},
   "outputs": [],
   "source": [
    "# Split the data in a trainig and validation set\n",
    "train_ids, valid_ids = RandomSplitter()(train_df)\n",
    "\n",
    "# Separate the y / target into a variable\n",
    "target = train_df[\"target\"]\n",
    "\n",
    "# create the input dataset based on the randomsplitter ids and utiliing the pre-processed tokens \n",
    "train_ds = TweetDataset(train_tensor, target, train_ids)\n",
    "valid_ds = TweetDataset(train_tensor, target, valid_ids)\n",
    "\n",
    "train_dl = DataLoader(train_ds, bs=64)\n",
    "valid_dl = DataLoader(valid_ds, bs=512)\n",
    "\n",
    "dls = DataLoaders(train_dl, valid_dl)"
   ]
  },
  {
   "cell_type": "code",
   "execution_count": 19,
   "metadata": {},
   "outputs": [
    {
     "name": "stderr",
     "output_type": "stream",
     "text": [
      "Some weights of the model checkpoint at bert-base-cased were not used when initializing BertForSequenceClassification: ['cls.seq_relationship.weight', 'cls.predictions.transform.dense.weight', 'cls.predictions.transform.LayerNorm.bias', 'cls.predictions.bias', 'cls.predictions.transform.LayerNorm.weight', 'cls.predictions.decoder.weight', 'cls.predictions.transform.dense.bias', 'cls.seq_relationship.bias']\n",
      "- This IS expected if you are initializing BertForSequenceClassification from the checkpoint of a model trained on another task or with another architecture (e.g. initializing a BertForSequenceClassification model from a BertForPreTraining model).\n",
      "- This IS NOT expected if you are initializing BertForSequenceClassification from the checkpoint of a model that you expect to be exactly identical (initializing a BertForSequenceClassification model from a BertForSequenceClassification model).\n",
      "Some weights of BertForSequenceClassification were not initialized from the model checkpoint at bert-base-cased and are newly initialized: ['classifier.weight', 'classifier.bias']\n",
      "You should probably TRAIN this model on a down-stream task to be able to use it for predictions and inference.\n"
     ]
    }
   ],
   "source": [
    "# Instantiate model object (Bert model with classification output)\n",
    "\n",
    "bert = AutoModelForSequenceClassification.from_pretrained(\"bert-base-cased\").train()\n",
    "\n",
    "classifier = nn.Sequential(\n",
    "    nn.Linear(768, 300),\n",
    "    nn.ReLU(),\n",
    "    nn.BatchNorm1d(300),\n",
    "    nn.Dropout(0.5),\n",
    "    nn.Linear(300, 2)\n",
    ")\n",
    "\n",
    "bert.classifier = classifier\n",
    "\n",
    "class BertClassifier(Module):\n",
    "    def __init__(self, bert):\n",
    "        self.bert = bert\n",
    "    def forward(self, x):\n",
    "        return self.bert(x).logits\n",
    "\n",
    "model = BertClassifier(bert)\n",
    "    "
   ]
  },
  {
   "cell_type": "code",
   "execution_count": 20,
   "metadata": {},
   "outputs": [
    {
     "data": {
      "text/html": [],
      "text/plain": [
       "<IPython.core.display.HTML object>"
      ]
     },
     "metadata": {},
     "output_type": "display_data"
    },
    {
     "data": {
      "text/plain": [
       "SuggestedLRs(lr_min=6.918309954926372e-05, lr_steep=0.0002754228771664202)"
      ]
     },
     "execution_count": 20,
     "metadata": {},
     "output_type": "execute_result"
    },
    {
     "data": {
      "image/png": "[encoded data removed]",
      "text/plain": [
       "<Figure size 432x288 with 1 Axes>"
      ]
     },
     "metadata": {
      "needs_background": "light"
     },
     "output_type": "display_data"
    }
   ],
   "source": [
    "# Set up the fastai learner using the model insantiated in previous step and find optimal learning rate\n",
    "\n",
    "learn = Learner(dls, model, loss_func=nn.CrossEntropyLoss(), metrics=[accuracy, F1Score()])\n",
    "learn.lr_find()"
   ]
  },
  {
   "cell_type": "code",
   "execution_count": 21,
   "metadata": {},
   "outputs": [
    {
     "data": {
      "text/html": [
       "<table border=\"1\" class=\"dataframe\">\n",
       "  <thead>\n",
       "    <tr style=\"text-align: left;\">\n",
       "      <th>epoch</th>\n",
       "      <th>train_loss</th>\n",
       "      <th>valid_loss</th>\n",
       "      <th>accuracy</th>\n",
       "      <th>f1_score</th>\n",
       "      <th>time</th>\n",
       "    </tr>\n",
       "  </thead>\n",
       "  <tbody>\n",
       "    <tr>\n",
       "      <td>0</td>\n",
       "      <td>0.616266</td>\n",
       "      <td>0.467299</td>\n",
       "      <td>0.805519</td>\n",
       "      <td>0.763578</td>\n",
       "      <td>27:48</td>\n",
       "    </tr>\n",
       "    <tr>\n",
       "      <td>1</td>\n",
       "      <td>0.440400</td>\n",
       "      <td>0.460923</td>\n",
       "      <td>0.825230</td>\n",
       "      <td>0.780165</td>\n",
       "      <td>22:48</td>\n",
       "    </tr>\n",
       "    <tr>\n",
       "      <td>2</td>\n",
       "      <td>0.319835</td>\n",
       "      <td>0.507775</td>\n",
       "      <td>0.824573</td>\n",
       "      <td>0.780608</td>\n",
       "      <td>21:06</td>\n",
       "    </tr>\n",
       "    <tr>\n",
       "      <td>3</td>\n",
       "      <td>0.232370</td>\n",
       "      <td>0.520090</td>\n",
       "      <td>0.813403</td>\n",
       "      <td>0.777080</td>\n",
       "      <td>20:30</td>\n",
       "    </tr>\n",
       "  </tbody>\n",
       "</table>"
      ],
      "text/plain": [
       "<IPython.core.display.HTML object>"
      ]
     },
     "metadata": {},
     "output_type": "display_data"
    }
   ],
   "source": [
    "# Fit the model\n",
    "learn.fit_one_cycle(4, lr_max=5e-5, wd=0.8)"
   ]
  },
  {
   "cell_type": "code",
   "execution_count": 22,
   "metadata": {},
   "outputs": [
    {
     "data": {
      "text/html": [],
      "text/plain": [
       "<IPython.core.display.HTML object>"
      ]
     },
     "metadata": {},
     "output_type": "display_data"
    },
    {
     "name": "stdout",
     "output_type": "stream",
     "text": [
      "thresholds:0.3000 - f1:0.7594\n",
      "thresholds:0.3082 - f1:0.7604\n",
      "thresholds:0.3163 - f1:0.7606\n",
      "thresholds:0.3245 - f1:0.7613\n",
      "thresholds:0.3327 - f1:0.7620\n",
      "thresholds:0.3408 - f1:0.7643\n",
      "thresholds:0.3490 - f1:0.7636\n",
      "thresholds:0.3571 - f1:0.7659\n",
      "thresholds:0.3653 - f1:0.7649\n",
      "thresholds:0.3735 - f1:0.7655\n",
      "thresholds:0.3816 - f1:0.7672\n",
      "thresholds:0.3898 - f1:0.7672\n",
      "thresholds:0.3980 - f1:0.7681\n",
      "thresholds:0.4061 - f1:0.7691\n",
      "thresholds:0.4143 - f1:0.7721\n",
      "thresholds:0.4224 - f1:0.7735\n",
      "thresholds:0.4306 - f1:0.7741\n",
      "thresholds:0.4388 - f1:0.7771\n",
      "thresholds:0.4469 - f1:0.7783\n",
      "thresholds:0.4551 - f1:0.7795\n",
      "thresholds:0.4633 - f1:0.7776\n",
      "thresholds:0.4714 - f1:0.7782\n",
      "thresholds:0.4796 - f1:0.7800\n",
      "thresholds:0.4878 - f1:0.7797\n",
      "thresholds:0.4959 - f1:0.7793\n",
      "thresholds:0.5041 - f1:0.7771\n",
      "thresholds:0.5122 - f1:0.7780\n",
      "thresholds:0.5204 - f1:0.7760\n",
      "thresholds:0.5286 - f1:0.7763\n",
      "thresholds:0.5367 - f1:0.7769\n",
      "thresholds:0.5449 - f1:0.7787\n",
      "thresholds:0.5531 - f1:0.7794\n",
      "thresholds:0.5612 - f1:0.7735\n",
      "thresholds:0.5694 - f1:0.7741\n",
      "thresholds:0.5776 - f1:0.7744\n",
      "thresholds:0.5857 - f1:0.7756\n",
      "thresholds:0.5939 - f1:0.7727\n",
      "thresholds:0.6020 - f1:0.7723\n",
      "thresholds:0.6102 - f1:0.7729\n",
      "thresholds:0.6184 - f1:0.7726\n",
      "thresholds:0.6265 - f1:0.7722\n",
      "thresholds:0.6347 - f1:0.7728\n",
      "thresholds:0.6429 - f1:0.7731\n",
      "thresholds:0.6510 - f1:0.7737\n",
      "thresholds:0.6592 - f1:0.7724\n",
      "thresholds:0.6673 - f1:0.7714\n",
      "thresholds:0.6755 - f1:0.7706\n",
      "thresholds:0.6837 - f1:0.7709\n",
      "thresholds:0.6918 - f1:0.7701\n",
      "thresholds:0.7000 - f1:0.7697\n"
     ]
    }
   ],
   "source": [
    "# Check f1 scores if threshold for for the probability of the logit \n",
    "# with the highest probability is above a minimum threshold \n",
    "# (if logits is below this threshold, I believe the prediction is zero: \"not a disaster tweet\") \n",
    "\n",
    "from sklearn.metrics import f1_score\n",
    "\n",
    "preds, targs = learn.get_preds()\n",
    "\n",
    "min_threshold = None\n",
    "max_f1 = -float(\"inf\")\n",
    "thresholds = np.linspace(0.3, 0.7, 50)\n",
    "for threshold in thresholds:\n",
    "    f1 = f1_score(targs, F.softmax(preds, dim=1)[:, 1]>threshold)\n",
    "    if f1 > max_f1:\n",
    "        min_threshold = threshold\n",
    "        min_f1 = f1\n",
    "    print(f\"thresholds:{threshold:.4f} - f1:{f1:.4f}\")"
   ]
  },
  {
   "cell_type": "code",
   "execution_count": 23,
   "metadata": {},
   "outputs": [],
   "source": [
    "# Convert text sequences to numerical tokens (vector of numbers which can be fed into the model)\n",
    "\n",
    "test_tensor = tokenizer(list(test_df[\"text\"]),\n",
    "                        padding=\"max_length\",\n",
    "                        truncation=True,\n",
    "                        max_length=30,\n",
    "                        return_tensors=\"pt\")[\"input_ids\"]"
   ]
  },
  {
   "cell_type": "code",
   "execution_count": 24,
   "metadata": {},
   "outputs": [],
   "source": [
    "# Create a custom class to prepare the test data in the input form required for the model: a tuple\n",
    "# of text sequence and a tensor of zero\n",
    "\n",
    "class TestDS:\n",
    "    def __init__(self, tensors):\n",
    "        self.tensors = tensors\n",
    "    \n",
    "    def __len__(self):\n",
    "        return len(self.tensors)\n",
    "    \n",
    "    def __getitem__(self, idx):\n",
    "        t = self.tensors[idx]\n",
    "        return t, tensor(0)\n",
    "\n",
    "test_dl = DataLoader(TestDS(test_tensor), bs=128)"
   ]
  },
  {
   "cell_type": "code",
   "execution_count": 25,
   "metadata": {},
   "outputs": [
    {
     "data": {
      "text/html": [],
      "text/plain": [
       "<IPython.core.display.HTML object>"
      ]
     },
     "metadata": {},
     "output_type": "display_data"
    }
   ],
   "source": [
    "# Get test prediction from the learner model\n",
    "\n",
    "test_preds = learn.get_preds(dl=test_dl)"
   ]
  },
  {
   "cell_type": "code",
   "execution_count": 26,
   "metadata": {},
   "outputs": [],
   "source": [
    "# Submit output to Kaggle\n",
    "prediction = (F.softmax(test_preds[0], dim=1)[:, 1]>min_threshold).int()\n",
    "sub = pd.read_csv(dir_path + \"sample_submission.csv\")\n",
    "sub[\"target\"] = prediction\n",
    "sub.to_csv(\"submission.csv\", index=False)"
   ]
  },
  {
   "cell_type": "code",
   "execution_count": null,
   "metadata": {},
   "outputs": [],
   "source": []
  }
 ],
 "metadata": {
  "kernelspec": {
   "display_name": "Python 3",
   "language": "python",
   "name": "python3"
  },
  "language_info": {
   "codemirror_mode": {
    "name": "ipython",
    "version": 3
   },
   "file_extension": ".py",
   "mimetype": "text/x-python",
   "name": "python",
   "nbconvert_exporter": "python",
   "pygments_lexer": "ipython3",
   "version": "3.9.1"
  }
 },
 "nbformat": 4,
 "nbformat_minor": 4
}
