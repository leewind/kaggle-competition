{
 "cells": [
  {
   "cell_type": "code",
   "execution_count": 1,
   "id": "fdea8715",
   "metadata": {},
   "outputs": [],
   "source": [
    "import numpy as np\n",
    "import pandas as pd\n",
    "from sklearn.model_selection import train_test_split\n",
    "from transformers import Trainer, TrainingArguments, AutoTokenizer, AutoModelForSequenceClassification\n",
    "from datasets import load_dataset\n",
    "from datasets import Features, Sequence, Value"
   ]
  },
  {
   "cell_type": "code",
   "execution_count": 2,
   "id": "39a983bc",
   "metadata": {},
   "outputs": [],
   "source": [
    "features = Features({\n",
    "    'url_legal': Value('string'),\n",
    "    'license': Value('string'),\n",
    "    'excerpt': Sequence(Value('string')),\n",
    "    'target': Value('float32')\n",
    "})"
   ]
  },
  {
   "cell_type": "code",
   "execution_count": 3,
   "id": "2b3a5721",
   "metadata": {},
   "outputs": [
    {
     "name": "stderr",
     "output_type": "stream",
     "text": [
      "Using custom data configuration default-4d9f3027cc262fd9\n",
      "Reusing dataset csv (/Users/eleme/.cache/huggingface/datasets/csv/default-4d9f3027cc262fd9/0.0.0/e138af468cb14e747fb46a19c787ffcfa5170c821476d20d5304287ce12bbc23)\n",
      "Loading cached processed dataset at /Users/eleme/.cache/huggingface/datasets/csv/default-4d9f3027cc262fd9/0.0.0/e138af468cb14e747fb46a19c787ffcfa5170c821476d20d5304287ce12bbc23/cache-6ba05e9cad204f5d.arrow\n"
     ]
    }
   ],
   "source": [
    "d = load_dataset('csv', data_files={'train':'train.csv'})\n",
    "d = d.map(lambda ex: {'labels': ex['target']}, batched=True)\n",
    "data = d['train']\n",
    "data = data.remove_columns(['target', 'standard_error', 'id'])"
   ]
  },
  {
   "cell_type": "code",
   "execution_count": 4,
   "id": "0952da47",
   "metadata": {},
   "outputs": [
    {
     "name": "stderr",
     "output_type": "stream",
     "text": [
      "Some weights of the model checkpoint at bert-base-cased were not used when initializing BertForSequenceClassification: ['cls.seq_relationship.bias', 'cls.predictions.transform.LayerNorm.bias', 'cls.predictions.bias', 'cls.predictions.transform.dense.bias', 'cls.predictions.transform.dense.weight', 'cls.predictions.decoder.weight', 'cls.seq_relationship.weight', 'cls.predictions.transform.LayerNorm.weight']\n",
      "- This IS expected if you are initializing BertForSequenceClassification from the checkpoint of a model trained on another task or with another architecture (e.g. initializing a BertForSequenceClassification model from a BertForPreTraining model).\n",
      "- This IS NOT expected if you are initializing BertForSequenceClassification from the checkpoint of a model that you expect to be exactly identical (initializing a BertForSequenceClassification model from a BertForSequenceClassification model).\n",
      "Some weights of BertForSequenceClassification were not initialized from the model checkpoint at bert-base-cased and are newly initialized: ['classifier.bias', 'classifier.weight']\n",
      "You should probably TRAIN this model on a down-stream task to be able to use it for predictions and inference.\n"
     ]
    }
   ],
   "source": [
    "MODEL_NAME = \"bert-base-cased\"\n",
    "tokenizer = AutoTokenizer.from_pretrained(MODEL_NAME)\n",
    "model = AutoModelForSequenceClassification.from_pretrained(MODEL_NAME, num_labels=1)"
   ]
  },
  {
   "cell_type": "code",
   "execution_count": 5,
   "id": "ae2bb2e5",
   "metadata": {},
   "outputs": [
    {
     "name": "stderr",
     "output_type": "stream",
     "text": [
      "Loading cached processed dataset at /Users/eleme/.cache/huggingface/datasets/csv/default-4d9f3027cc262fd9/0.0.0/e138af468cb14e747fb46a19c787ffcfa5170c821476d20d5304287ce12bbc23/cache-1112d41b6b15e79d.arrow\n"
     ]
    }
   ],
   "source": [
    "MAX_LENGTH = 512\n",
    "data = data.map(lambda e: tokenizer(e['excerpt'], truncation=True, padding='max_length', max_length=MAX_LENGTH), batched=True)"
   ]
  },
  {
   "cell_type": "code",
   "execution_count": 6,
   "id": "17a43264",
   "metadata": {},
   "outputs": [],
   "source": [
    "data.set_format(type='torch', columns=['input_ids', 'token_type_ids', 'attention_mask', 'labels'])"
   ]
  },
  {
   "cell_type": "code",
   "execution_count": 7,
   "id": "4a439f29",
   "metadata": {},
   "outputs": [
    {
     "data": {
      "text/plain": [
       "Dataset({\n",
       "    features: ['attention_mask', 'excerpt', 'input_ids', 'labels', 'license', 'token_type_ids', 'url_legal'],\n",
       "    num_rows: 2834\n",
       "})"
      ]
     },
     "execution_count": 7,
     "metadata": {},
     "output_type": "execute_result"
    }
   ],
   "source": [
    "data"
   ]
  },
  {
   "cell_type": "code",
   "execution_count": 8,
   "id": "457ce0ea",
   "metadata": {},
   "outputs": [],
   "source": [
    "# Compute metrics is an argument of the Trainer\n",
    "def compute_metrics(pred_results):\n",
    "    \"\"\"For computing RMSE inside the training loop\"\"\"\n",
    "    y_pred = pred_results.predictions.squeeze()\n",
    "    y_true = pred_results.label_ids\n",
    "    return {\"rmse\": rmse(y_true, y_pred)}"
   ]
  },
  {
   "cell_type": "code",
   "execution_count": 16,
   "id": "bca8337e",
   "metadata": {},
   "outputs": [],
   "source": [
    "dataset = data.train_test_split(test_size=0.3)"
   ]
  },
  {
   "cell_type": "code",
   "execution_count": 17,
   "id": "074b181c",
   "metadata": {},
   "outputs": [
    {
     "data": {
      "text/plain": [
       "DatasetDict({\n",
       "    train: Dataset({\n",
       "        features: ['attention_mask', 'excerpt', 'input_ids', 'labels', 'license', 'token_type_ids', 'url_legal'],\n",
       "        num_rows: 1983\n",
       "    })\n",
       "    test: Dataset({\n",
       "        features: ['attention_mask', 'excerpt', 'input_ids', 'labels', 'license', 'token_type_ids', 'url_legal'],\n",
       "        num_rows: 851\n",
       "    })\n",
       "})"
      ]
     },
     "execution_count": 17,
     "metadata": {},
     "output_type": "execute_result"
    }
   ],
   "source": [
    "dataset"
   ]
  },
  {
   "cell_type": "code",
   "execution_count": null,
   "id": "28e2012a",
   "metadata": {},
   "outputs": [],
   "source": [
    "training_args = TrainingArguments(\n",
    "    output_dir='./results',          # output directory\n",
    "    learning_rate=3e-4,\n",
    "    num_train_epochs=3,              # total number of training epochs\n",
    "    per_device_train_batch_size=64,  # batch size per device during training\n",
    "    per_device_eval_batch_size=64,   # batch size for evaluation\n",
    "    logging_dir='./logs',            # directory for storing logs\n",
    "    logging_steps=100,\n",
    "    do_train=True,\n",
    "    do_eval=True,\n",
    "    no_cuda=False,\n",
    "    load_best_model_at_end=True,\n",
    "    # eval_steps=100,\n",
    "    evaluation_strategy=\"epoch\"\n",
    ")\n",
    "\n",
    "trainer = Trainer(\n",
    "    model=model,                         # the instantiated 🤗 Transformers model to be trained\n",
    "    args=training_args,                  # training arguments, defined above\n",
    "    train_dataset=dataset['train'],         # training dataset\n",
    "    eval_dataset=dataset['test'],            # evaluation dataset\n",
    "    compute_metrics=compute_metrics\n",
    ")\n",
    "\n",
    "train_out = trainer.train()\n"
   ]
  },
  {
   "cell_type": "code",
   "execution_count": null,
   "id": "9ff40b06",
   "metadata": {},
   "outputs": [],
   "source": []
  }
 ],
 "metadata": {
  "kernelspec": {
   "display_name": "Python 3",
   "language": "python",
   "name": "python3"
  },
  "language_info": {
   "codemirror_mode": {
    "name": "ipython",
    "version": 3
   },
   "file_extension": ".py",
   "mimetype": "text/x-python",
   "name": "python",
   "nbconvert_exporter": "python",
   "pygments_lexer": "ipython3",
   "version": "3.9.1"
  }
 },
 "nbformat": 4,
 "nbformat_minor": 5
}
